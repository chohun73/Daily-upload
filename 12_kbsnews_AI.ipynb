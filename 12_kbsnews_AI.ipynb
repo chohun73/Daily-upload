{
 "cells": [
  {
   "cell_type": "markdown",
   "metadata": {},
   "source": [
    "- KBS 뉴스 url, 제목, 요약, 날짜를 출력\n",
    "\n",
    "- AI, 헬스케어, LG, 데이터 등의 요인이 표함되어 있는 기사만 크롤링\n",
    "\n",
    "- 추가한다면 하단의 페이지 수를 추출해서 range에 변수로 넣는것."
   ]
  },
  {
   "cell_type": "code",
   "execution_count": 2,
   "metadata": {},
   "outputs": [],
   "source": [
    "import requests\n",
    "from bs4 import BeautifulSoup\n",
    "import pandas as pd\n",
    "from datetime import datetime"
   ]
  },
  {
   "cell_type": "code",
   "execution_count": 3,
   "metadata": {},
   "outputs": [],
   "source": [
    "from selenium import webdriver\n",
    "from selenium.webdriver.chrome.service import Service\n",
    "from webdriver_manager.chrome import ChromeDriverManager\n",
    "from selenium.webdriver.support.ui import WebDriverWait\n",
    "from selenium.webdriver.common.by import By"
   ]
  },
  {
   "cell_type": "code",
   "execution_count": 30,
   "metadata": {},
   "outputs": [],
   "source": [
    "# 빈 리스트 만들기\n",
    "url_list = []\n",
    "title_list = []\n",
    "body_list = []\n",
    "date_list = []\n",
    "\n",
    "# 오늘 날짜 입력\n",
    "today = datetime.today().strftime(\"%Y%m%d\")\n",
    "\n",
    "# 서비스 변수 설정\n",
    "service = Service(executable_path=ChromeDriverManager().install())\n",
    "\n",
    "# 1. 페이지를 돌면서 작업을 수행할 예정\n",
    "for page_num in range(1,45):\n",
    "\n",
    "    # Selenium으로 웹 드라이버를 실행\n",
    "    driver = webdriver.Chrome(service = service)\n",
    "\n",
    "    # url 전달\n",
    "    url = f'https://news.kbs.co.kr/news/pc/category/category.do?ref=pSiteMap#{today}&{page_num}'\n",
    "    driver.get(url)\n",
    "\n",
    "    # 기다려달라는 값을 전달 : 최대 10초 기다리기\n",
    "    wait = WebDriverWait(driver, 10)\n",
    "\n",
    "    # 드라이버 접근 > 페이지 소스 가져오기\n",
    "    html = driver.page_source\n",
    "\n",
    "    # 드라이버 종료\n",
    "    driver.quit()\n",
    "\n",
    "    #2. BeautifulSoup 사용해서 파싱하고, 태그들을 찾아서 담아줌\n",
    "    soup = BeautifulSoup(html,'html.parser')\n",
    "    box_contents = soup.find_all('a', class_ = 'box-content flex-style')\n",
    "\n",
    "    keywords = ['GPT', 'AI', '데이터', 'LG', '헬스케어', '인테리어']\n",
    "\n",
    "    #3. 박스 데이터들을 하나씩 돌면서 리스트에 데이터를 담음\n",
    "    for box_content in box_contents:\n",
    "        url = \"http://news.kbs.co.kr\" + box_content['href']\n",
    "        title = box_content.find('p',class_='title').text\n",
    "        body = box_content.find('p',class_='news-text').text\n",
    "        date = box_content.find('span', class_='date').text\n",
    "\n",
    "        # keyword가 있는 경우만 저장\n",
    "        for keyword in keywords:\n",
    "            if title.find(keyword) == -1 and body.find(keyword) == -1:\n",
    "                continue\n",
    "            else:\n",
    "                url_list.append(url)\n",
    "                title_list.append(title)\n",
    "                body_list.append(body)\n",
    "                date_list.append(date)\n",
    "    \n",
    "# 데이터 저장\n",
    "data = {'뉴스url':url_list, '제목':title_list, '내용':body_list, '날짜':date_list}\n",
    "df = pd.DataFrame(data)\n",
    "df\n",
    "\n",
    "df.to_csv('news_kbs_pagenation.csv', index = False)"
   ]
  },
  {
   "cell_type": "code",
   "execution_count": 32,
   "metadata": {},
   "outputs": [
    {
     "data": {
      "text/html": [
       "<div>\n",
       "<style scoped>\n",
       "    .dataframe tbody tr th:only-of-type {\n",
       "        vertical-align: middle;\n",
       "    }\n",
       "\n",
       "    .dataframe tbody tr th {\n",
       "        vertical-align: top;\n",
       "    }\n",
       "\n",
       "    .dataframe thead th {\n",
       "        text-align: right;\n",
       "    }\n",
       "</style>\n",
       "<table border=\"1\" class=\"dataframe\">\n",
       "  <thead>\n",
       "    <tr style=\"text-align: right;\">\n",
       "      <th></th>\n",
       "      <th>뉴스url</th>\n",
       "      <th>제목</th>\n",
       "      <th>내용</th>\n",
       "      <th>날짜</th>\n",
       "    </tr>\n",
       "  </thead>\n",
       "  <tbody>\n",
       "    <tr>\n",
       "      <th>0</th>\n",
       "      <td>http://news.kbs.co.kr/news/view.do?ncd=7987875</td>\n",
       "      <td>미중, 2차 1.5트랙 대화…“충돌 피하고 무역·AI협력 심화 공감”</td>\n",
       "      <td>전략 경쟁 격화 속에서도 부문별 소통 채널을 속속 활성화 중인 미국과 중국이 1.5...</td>\n",
       "      <td>2024.06.14 (11:00)</td>\n",
       "    </tr>\n",
       "  </tbody>\n",
       "</table>\n",
       "</div>"
      ],
      "text/plain": [
       "                                            뉴스url  \\\n",
       "0  http://news.kbs.co.kr/news/view.do?ncd=7987875   \n",
       "\n",
       "                                       제목  \\\n",
       "0  미중, 2차 1.5트랙 대화…“충돌 피하고 무역·AI협력 심화 공감”   \n",
       "\n",
       "                                                  내용                  날짜  \n",
       "0  전략 경쟁 격화 속에서도 부문별 소통 채널을 속속 활성화 중인 미국과 중국이 1.5...  2024.06.14 (11:00)  "
      ]
     },
     "execution_count": 32,
     "metadata": {},
     "output_type": "execute_result"
    }
   ],
   "source": [
    "df"
   ]
  }
 ],
 "metadata": {
  "kernelspec": {
   "display_name": "Python 3",
   "language": "python",
   "name": "python3"
  },
  "language_info": {
   "codemirror_mode": {
    "name": "ipython",
    "version": 3
   },
   "file_extension": ".py",
   "mimetype": "text/x-python",
   "name": "python",
   "nbconvert_exporter": "python",
   "pygments_lexer": "ipython3",
   "version": "3.12.2"
  }
 },
 "nbformat": 4,
 "nbformat_minor": 2
}
